{
 "cells": [
  {
   "cell_type": "code",
   "execution_count": null,
   "metadata": {},
   "outputs": [],
   "source": [
    "import pandas as pd\n",
    "\n",
    "df = pd.read_csv('金寧實價登錄.csv')\n",
    "\n",
    "# 將備註欄位中的缺失值替換為False\n",
    "df['備註'] = df['備註'].fillna(False)\n",
    "\n",
    "# 尋找備註欄位中包含\"親友\"的資料列\n",
    "df = df[~df['備註'].astype(str).str.contains('親友')]\n",
    "\n",
    "# 將 False 改回成 None\n",
    "df = df.replace(False, None)\n",
    "\n",
    "df=df.drop(['社區簡稱','主要用途','備註'],axis=1)\n",
    "\n",
    "df.to_csv('02金寧實價登錄(刪除親友,社區簡稱,主要用途,備註).csv', index=False)"
   ]
  },
  {
   "cell_type": "code",
   "execution_count": null,
   "metadata": {},
   "outputs": [],
   "source": [
    "import pandas as pd\n",
    "\n",
    "df = pd.read_csv('02金寧實價登錄(刪除親友,社區簡稱,主要用途,備註).csv')\n",
    "\n",
    "df = df.loc[df['型態'].str.contains('華廈\\(10層含以下有電梯\\)|公寓\\(5樓含以下無電梯\\)')]\n",
    "\n",
    "df.to_csv('03金寧實價登錄(篩選華廈公寓).csv', index=False)"
   ]
  },
  {
   "cell_type": "code",
   "execution_count": null,
   "metadata": {},
   "outputs": [],
   "source": [
    "import pandas as pd\n",
    "\n",
    "df = pd.read_csv('03金寧實價登錄(篩選華廈公寓).csv')\n",
    "\n",
    "# 從 '交易年月日' 欄位中提取交易年份，並將 '交易年月日' 欄位改為 '交易年份'\n",
    "df['交易年份'] = df['交易年月'].str.extract(r'(\\d{3})')[0]\n",
    "df = df.drop('交易年月', axis=1)\n",
    "\n",
    "df.to_csv('04金寧實價登錄(交易年).csv', index=False)"
   ]
  },
  {
   "cell_type": "code",
   "execution_count": null,
   "metadata": {},
   "outputs": [],
   "source": [
    "import pandas as pd\n",
    "\n",
    "df = pd.read_csv('04金寧實價登錄(交易年).csv')\n",
    "\n",
    "df=df.drop('交易標的',axis=1)\n",
    "\n",
    "df.to_csv('05金寧實價登錄(刪除交易標的).csv', index=False)"
   ]
  },
  {
   "cell_type": "code",
   "execution_count": 1,
   "metadata": {},
   "outputs": [],
   "source": [
    "import pandas as pd\n",
    "\n",
    "df = pd.read_csv('05金寧實價登錄(刪除交易標的).csv')\n",
    "\n",
    "df = df.drop(['屋齡', '車位總價'], axis=1)\n",
    "\n",
    "df.to_csv('06金寧實價登錄(刪屋齡及車位總價).csv', index=False)\n"
   ]
  },
  {
   "cell_type": "code",
   "execution_count": 5,
   "metadata": {},
   "outputs": [],
   "source": [
    "import pandas as pd\n",
    "\n",
    "df = pd.read_csv('06金寧實價登錄(刪屋齡及車位總價).csv')\n",
    "\n",
    "# 分割交易筆棟數資料\n",
    "df[['土', '建', '車']] = df['交易筆棟數'].str.extract(r'土:(\\d+) 建:(\\d+)車:(\\d+)')\n",
    "\n",
    "df = df.drop('交易筆棟數', axis=1)\n",
    "\n",
    "df.to_csv('07金寧實價登錄(土建車).csv', index=False)\n"
   ]
  },
  {
   "cell_type": "code",
   "execution_count": 6,
   "metadata": {},
   "outputs": [],
   "source": [
    "import pandas as pd\n",
    "\n",
    "df = pd.read_csv('07金寧實價登錄(土建車).csv')\n",
    "\n",
    "# 新增欄位：房、廳、衛\n",
    "df[['房', '廳', '衛']] = df['建物現況格局'].str.extract(r'(\\d+)房(\\d+)廳(\\d+)衛')\n",
    "\n",
    "df = df.drop('建物現況格局', axis=1)\n",
    "\n",
    "df.to_csv('08金寧實價登錄(房廳衛).csv', index=False)\n"
   ]
  },
  {
   "cell_type": "code",
   "execution_count": 7,
   "metadata": {},
   "outputs": [],
   "source": [
    "import pandas as pd\n",
    "\n",
    "df = pd.read_csv('08金寧實價登錄(房廳衛).csv')\n",
    "\n",
    "# 分割樓別/樓高資料列\n",
    "df[['樓別', '樓高']] = df['樓別/樓高'].str.split('/', expand=True)\n",
    "\n",
    "df = df.drop('樓別/樓高', axis=1)\n",
    "\n",
    "df.to_csv('09金寧實價登錄(樓別樓高).csv', index=False)\n"
   ]
  },
  {
   "cell_type": "code",
   "execution_count": 8,
   "metadata": {},
   "outputs": [],
   "source": [
    "import pandas as pd\n",
    "\n",
    "df = pd.read_csv('09金寧實價登錄(樓別樓高).csv')\n",
    "\n",
    "chinese_to_number = {\n",
    "    '一層': 1,\n",
    "    '二層': 2,\n",
    "    '三層': 3,\n",
    "    '四層': 4,\n",
    "    '五層': 5,\n",
    "    '六層': 6,\n",
    "}\n",
    "\n",
    "df['樓高'] = df['樓高'].map(chinese_to_number)\n",
    "\n",
    "df.to_csv('10金寧實價登錄(樓高數字表示).csv', index=False)\n"
   ]
  },
  {
   "cell_type": "code",
   "execution_count": null,
   "metadata": {},
   "outputs": [],
   "source": [
    "import re\n",
    "import pandas as pd\n",
    "\n",
    "df = pd.read_csv('10金寧實價登錄(樓高數字表示).csv')\n",
    "\n",
    "# 正則表達式模式\n",
    "pattern = re.compile(r'([\\u4e00-\\u9fff]+)')\n",
    "\n",
    "# 新增地區欄位\n",
    "df['地區'] = df['地段位置或門牌'].apply(lambda item: re.search(pattern, item).group(1) if re.search(pattern, item) else None)\n",
    "\n",
    "df = df.drop('地段位置或門牌', axis=1)\n",
    "\n",
    "df.to_csv('11金寧實價登錄(地區).csv', index=False)\n"
   ]
  },
  {
   "cell_type": "code",
   "execution_count": 2,
   "metadata": {},
   "outputs": [],
   "source": [
    "import pandas as pd\n",
    "\n",
    "data = pd.read_csv('11金寧實價登錄(地區).csv')\n",
    "\n",
    "data.dropna(subset=['房', '廳', '衛'], inplace=True)\n",
    "\n",
    "data.to_csv('12金寧實價登錄(房廳衛空值).csv', index=False)\n"
   ]
  },
  {
   "cell_type": "code",
   "execution_count": 3,
   "metadata": {},
   "outputs": [],
   "source": [
    "import pandas as pd\n",
    "\n",
    "data = pd.read_csv('12金寧實價登錄(房廳衛空值).csv')\n",
    "\n",
    "data.dropna(subset=['樓別'], inplace=True)\n",
    "\n",
    "data.to_csv('13金寧實價登錄(樓別空值).csv', index=False)"
   ]
  },
  {
   "cell_type": "code",
   "execution_count": null,
   "metadata": {},
   "outputs": [],
   "source": [
    "import pandas as pd\n",
    "\n",
    "data = pd.read_csv('13金寧實價登錄(樓別空值).csv')\n",
    "\n",
    "data['主建物佔比'].fillna(100, inplace=True)\n",
    "\n",
    "data.to_csv('14金寧實價登錄(主建物占比100%).csv', index=False)"
   ]
  }
 ],
 "metadata": {
  "kernelspec": {
   "display_name": "base",
   "language": "python",
   "name": "python3"
  },
  "language_info": {
   "codemirror_mode": {
    "name": "ipython",
    "version": 3
   },
   "file_extension": ".py",
   "mimetype": "text/x-python",
   "name": "python",
   "nbconvert_exporter": "python",
   "pygments_lexer": "ipython3",
   "version": "3.9.12"
  },
  "orig_nbformat": 4
 },
 "nbformat": 4,
 "nbformat_minor": 2
}
