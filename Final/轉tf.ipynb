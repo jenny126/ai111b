{
 "cells": [
  {
   "cell_type": "code",
   "execution_count": 7,
   "metadata": {},
   "outputs": [
    {
     "name": "stdout",
     "output_type": "stream",
     "text": [
      "WARNING:tensorflow:No training configuration found in the save file, so the model was *not* compiled. Compile it manually.\n",
      "129/129 [==============================] - 0s 3ms/step\n",
      "Confusion matrix:\n",
      "[[ 926    2   28   12]\n",
      " [   5  802   29  225]\n",
      " [  52   91  735  105]\n",
      " [   0   24   40 1031]]\n",
      "\n",
      "Classification report:\n",
      "              precision    recall  f1-score   support\n",
      "\n",
      "           0       0.94      0.96      0.95       968\n",
      "           1       0.87      0.76      0.81      1061\n",
      "           2       0.88      0.75      0.81       983\n",
      "           3       0.75      0.94      0.84      1095\n",
      "\n",
      "    accuracy                           0.85      4107\n",
      "   macro avg       0.86      0.85      0.85      4107\n",
      "weighted avg       0.86      0.85      0.85      4107\n",
      "\n"
     ]
    }
   ],
   "source": [
    "import numpy as np\n",
    "from tensorflow import keras\n",
    "import tensorflow as tf\n",
    "from sklearn.metrics import confusion_matrix, classification_report\n",
    "\n",
    "# 讀取 HDF5 模型\n",
    "model = keras.models.load_model('pose012.hdf5')\n",
    "\n",
    "# 讀取測試數據\n",
    "test_data = np.loadtxt('pose10.csv', delimiter=',')\n",
    "x_test, y_test = test_data[:, 1:], test_data[:, 0].astype(int)\n",
    "\n",
    "# 進行預測\n",
    "y_pred = np.argmax(model.predict(x_test), axis=-1)\n",
    "\n",
    "# 計算混淆矩陣和分類報告\n",
    "cm = confusion_matrix(y_test, y_pred)\n",
    "report = classification_report(y_test, y_pred)\n",
    "\n",
    "# 打印混淆矩陣和分類報告\n",
    "print(\"Confusion matrix:\")\n",
    "print(cm)\n",
    "print(\"\\nClassification report:\")\n",
    "print(report)"
   ]
  },
  {
   "cell_type": "code",
   "execution_count": 8,
   "metadata": {},
   "outputs": [
    {
     "ename": "ValueError",
     "evalue": "Could not open 'pose012.tflite'.",
     "output_type": "error",
     "traceback": [
      "\u001b[1;31m---------------------------------------------------------------------------\u001b[0m",
      "\u001b[1;31mValueError\u001b[0m                                Traceback (most recent call last)",
      "\u001b[1;32mc:\\code\\School_project\\hand_on_python\\轉tf.ipynb Cell 2\u001b[0m in \u001b[0;36m<cell line: 24>\u001b[1;34m()\u001b[0m\n\u001b[0;32m     <a href='vscode-notebook-cell:/c%3A/code/School_project/hand_on_python/%E8%BD%89tf.ipynb#W3sZmlsZQ%3D%3D?line=20'>21</a>\u001b[0m         \u001b[39mprint\u001b[39m(classification_report(y_true, y_pred))\n\u001b[0;32m     <a href='vscode-notebook-cell:/c%3A/code/School_project/hand_on_python/%E8%BD%89tf.ipynb#W3sZmlsZQ%3D%3D?line=22'>23</a>\u001b[0m \u001b[39m# 讀取tflite模型\u001b[39;00m\n\u001b[1;32m---> <a href='vscode-notebook-cell:/c%3A/code/School_project/hand_on_python/%E8%BD%89tf.ipynb#W3sZmlsZQ%3D%3D?line=23'>24</a>\u001b[0m interpreter \u001b[39m=\u001b[39m tf\u001b[39m.\u001b[39;49mlite\u001b[39m.\u001b[39;49mInterpreter(model_path\u001b[39m=\u001b[39;49m\u001b[39m'\u001b[39;49m\u001b[39mpose012.tflite\u001b[39;49m\u001b[39m'\u001b[39;49m)\n\u001b[0;32m     <a href='vscode-notebook-cell:/c%3A/code/School_project/hand_on_python/%E8%BD%89tf.ipynb#W3sZmlsZQ%3D%3D?line=24'>25</a>\u001b[0m interpreter\u001b[39m.\u001b[39mallocate_tensors()\n\u001b[0;32m     <a href='vscode-notebook-cell:/c%3A/code/School_project/hand_on_python/%E8%BD%89tf.ipynb#W3sZmlsZQ%3D%3D?line=26'>27</a>\u001b[0m \u001b[39m# 取得輸入和輸出tensor的索引\u001b[39;00m\n",
      "File \u001b[1;32mc:\\Users\\ASUS\\anaconda3\\lib\\site-packages\\tensorflow\\lite\\python\\interpreter.py:455\u001b[0m, in \u001b[0;36mInterpreter.__init__\u001b[1;34m(self, model_path, model_content, experimental_delegates, num_threads, experimental_op_resolver_type, experimental_preserve_all_tensors)\u001b[0m\n\u001b[0;32m    448\u001b[0m custom_op_registerers_by_name \u001b[39m=\u001b[39m [\n\u001b[0;32m    449\u001b[0m     x \u001b[39mfor\u001b[39;00m x \u001b[39min\u001b[39;00m \u001b[39mself\u001b[39m\u001b[39m.\u001b[39m_custom_op_registerers \u001b[39mif\u001b[39;00m \u001b[39misinstance\u001b[39m(x, \u001b[39mstr\u001b[39m)\n\u001b[0;32m    450\u001b[0m ]\n\u001b[0;32m    451\u001b[0m custom_op_registerers_by_func \u001b[39m=\u001b[39m [\n\u001b[0;32m    452\u001b[0m     x \u001b[39mfor\u001b[39;00m x \u001b[39min\u001b[39;00m \u001b[39mself\u001b[39m\u001b[39m.\u001b[39m_custom_op_registerers \u001b[39mif\u001b[39;00m \u001b[39mnot\u001b[39;00m \u001b[39misinstance\u001b[39m(x, \u001b[39mstr\u001b[39m)\n\u001b[0;32m    453\u001b[0m ]\n\u001b[0;32m    454\u001b[0m \u001b[39mself\u001b[39m\u001b[39m.\u001b[39m_interpreter \u001b[39m=\u001b[39m (\n\u001b[1;32m--> 455\u001b[0m     _interpreter_wrapper\u001b[39m.\u001b[39;49mCreateWrapperFromFile(\n\u001b[0;32m    456\u001b[0m         model_path, op_resolver_id, custom_op_registerers_by_name,\n\u001b[0;32m    457\u001b[0m         custom_op_registerers_by_func, experimental_preserve_all_tensors))\n\u001b[0;32m    458\u001b[0m \u001b[39mif\u001b[39;00m \u001b[39mnot\u001b[39;00m \u001b[39mself\u001b[39m\u001b[39m.\u001b[39m_interpreter:\n\u001b[0;32m    459\u001b[0m   \u001b[39mraise\u001b[39;00m \u001b[39mValueError\u001b[39;00m(\u001b[39m'\u001b[39m\u001b[39mFailed to open \u001b[39m\u001b[39m{}\u001b[39;00m\u001b[39m'\u001b[39m\u001b[39m.\u001b[39mformat(model_path))\n",
      "\u001b[1;31mValueError\u001b[0m: Could not open 'pose012.tflite'."
     ]
    }
   ],
   "source": []
  },
  {
   "cell_type": "code",
   "execution_count": 9,
   "metadata": {},
   "outputs": [],
   "source": [
    "# 推論専用のモデルとして保存\n",
    "model_save_path = 'pose017.hdf5'\n",
    "model.save(model_save_path, include_optimizer=False)"
   ]
  },
  {
   "cell_type": "code",
   "execution_count": 10,
   "metadata": {},
   "outputs": [
    {
     "name": "stdout",
     "output_type": "stream",
     "text": [
      "INFO:tensorflow:Assets written to: C:\\Users\\ASUS\\AppData\\Local\\Temp\\tmpdqz8fedi\\assets\n"
     ]
    },
    {
     "name": "stderr",
     "output_type": "stream",
     "text": [
      "INFO:tensorflow:Assets written to: C:\\Users\\ASUS\\AppData\\Local\\Temp\\tmpdqz8fedi\\assets\n"
     ]
    },
    {
     "data": {
      "text/plain": [
       "7128"
      ]
     },
     "execution_count": 10,
     "metadata": {},
     "output_type": "execute_result"
    }
   ],
   "source": [
    "# モデルを変換(量子化)\n",
    "tflite_save_path = 'pose017.tflite'\n",
    "\n",
    "converter = tf.lite.TFLiteConverter.from_keras_model(model)\n",
    "converter.optimizations = [tf.lite.Optimize.DEFAULT]\n",
    "tflite_quantized_model = converter.convert()\n",
    "\n",
    "open(tflite_save_path, 'wb').write(tflite_quantized_model)"
   ]
  }
 ],
 "metadata": {
  "kernelspec": {
   "display_name": "Python 3",
   "language": "python",
   "name": "python3"
  },
  "language_info": {
   "codemirror_mode": {
    "name": "ipython",
    "version": 3
   },
   "file_extension": ".py",
   "mimetype": "text/x-python",
   "name": "python",
   "nbconvert_exporter": "python",
   "pygments_lexer": "ipython3",
   "version": "3.9.12"
  },
  "orig_nbformat": 4
 },
 "nbformat": 4,
 "nbformat_minor": 2
}
